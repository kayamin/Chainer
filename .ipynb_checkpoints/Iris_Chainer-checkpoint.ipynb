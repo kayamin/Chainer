{
 "cells": [
  {
   "cell_type": "code",
   "execution_count": 2,
   "metadata": {
    "collapsed": false
   },
   "outputs": [
    {
     "name": "stderr",
     "output_type": "stream",
     "text": [
      "/Users/a_shika/.pyenv/versions/anaconda-2.4.0/lib/python2.7/site-packages/sklearn/cross_validation.py:44: DeprecationWarning: This module was deprecated in version 0.18 in favor of the model_selection module into which all the refactored classes and functions are moved. Also note that the interface of the new CV iterators are different from that of this module. This module will be removed in 0.20.\n",
      "  \"This module will be removed in 0.20.\", DeprecationWarning)\n"
     ]
    }
   ],
   "source": [
    "import numpy as np\n",
    "import pandas as pd\n",
    "import matplotlib.pylab as plt\n",
    "%matplotlib inline\n",
    "\n",
    "from sklearn.cross_validation import train_test_split\n",
    "from sklearn.preprocessing import StandardScaler, MinMaxScaler, Normalizer\n",
    "from sklearn.datasets import load_iris\n",
    "\n",
    "import chainer.functions as F\n",
    "import chainer.links as L\n",
    "from chainer import Chain, Variable\n",
    "from chainer import optimizers\n",
    "\n",
    "from tqdm import tqdm"
   ]
  },
  {
   "cell_type": "code",
   "execution_count": 3,
   "metadata": {
    "collapsed": false
   },
   "outputs": [],
   "source": [
    "Iris = load_iris()\n",
    "x = Iris.data.astype(np.float32)\n",
    "t = Iris.target.astype(np.int32)\n",
    "\n",
    "# stratify を指定することで，元データの正解ラベル比率を維持して訓練データとテストデータに分割してくれる\n",
    "x_train, x_test, t_train, t_test = train_test_split(x, t, test_size=0.3, random_state=0, stratify=t)"
   ]
  },
  {
   "cell_type": "code",
   "execution_count": 16,
   "metadata": {
    "collapsed": false
   },
   "outputs": [],
   "source": [
    "# 値を最小値から最大値が 0~1 に収まるようにスケーリング\n",
    "mms = MinMaxScaler()\n",
    "mms.fit(x_train)\n",
    "\n",
    "x_train_mms = mms.transform(x_train)\n",
    "x_test_mms = mms.transform(x_test)"
   ]
  },
  {
   "cell_type": "code",
   "execution_count": 21,
   "metadata": {
    "collapsed": false
   },
   "outputs": [],
   "source": [
    "# ニューラルネットを定義\n",
    "\n",
    "class IrisNN(Chain):\n",
    "    def __init__(self, hidden=[100, 200, 100]):\n",
    "        super(IrisNN, self).__init__(\n",
    "        \n",
    "        l1 = L.Linear(4, hidden[0]),\n",
    "        l2 = L.Linear(hidden[0], hidden[1]),\n",
    "        l3 = L.Linear(hidden[1], hidden[2]),\n",
    "        l4 = L.Linear(hidden[2], 3)\n",
    "        \n",
    "        )\n",
    "    \n",
    "    def __call__(self, x):\n",
    "        \n",
    "        h = F.relu(self.l1(x))\n",
    "        h = F.relu(self.l2(h))\n",
    "        h = F.relu(self.l3(h))\n",
    "        h = F.relu(self.l4(h))\n",
    "        \n",
    "        return h\n",
    "    "
   ]
  },
  {
   "cell_type": "code",
   "execution_count": 19,
   "metadata": {
    "collapsed": false
   },
   "outputs": [
    {
     "name": "stderr",
     "output_type": "stream",
     "text": [
      "100%|██████████| 20/20 [00:00<00:00, 30.61it/s]\n"
     ]
    }
   ],
   "source": [
    "# 学習を実行\n",
    "\n",
    "model = IrisNN()\n",
    "opt = optimizers.Adam(alpha= 0.001)\n",
    "opt.setup(model)\n",
    "\n",
    "n_epoch = 20\n",
    "batchsize = 10\n",
    "datasize = len(y_train)\n",
    "\n",
    "for i in tqdm(xrange(n_epoch)):\n",
    "    indices = np.random.permutation(datasize)\n",
    "    \n",
    "    for j in xrange(0, datasize, batchsize):\n",
    "        x_tmp = Variable(x_train_mms[indices[j : j+batchsize]])\n",
    "        t_tmp = Variable(t_train[indices[j : j+batchsize]])\n",
    "        \n",
    "        model.cleargrads()\n",
    "        \n",
    "        y = model(x_tmp)\n",
    "        loss = F.softmax_cross_entropy(y, t_tmp)\n",
    "        loss.backward()\n",
    "        opt.update()\n",
    "        "
   ]
  },
  {
   "cell_type": "code",
   "execution_count": 22,
   "metadata": {
    "collapsed": false
   },
   "outputs": [
    {
     "name": "stdout",
     "output_type": "stream",
     "text": [
      "epoch       main/accuracy  validation/main/accuracy\n",
      "\u001b[J1           0.52           0.34                      \n",
      "\u001b[J2           0.59           0.4                       \n",
      "\u001b[J3           0.72           0.7                       \n",
      "\u001b[J4           0.91           0.86                      \n",
      "\u001b[J5           0.83           0.86                      \n",
      "\u001b[J6           0.91           0.98                      \n",
      "\u001b[J7           0.94           0.96                      \n",
      "\u001b[J8           0.97           0.96                      \n",
      "\u001b[J9           0.95           0.98                      \n",
      "\u001b[J10          0.92           0.98                      \n",
      "\u001b[J     total [#########################.........................] 50.00%\n",
      "this epoch [..................................................]  0.00%\n",
      "       100 iter, 10 epoch / 20 epochs\n",
      "       inf iters/sec. Estimated time to finish: 0:00:00.\n",
      "\u001b[4A\u001b[J11          0.95           0.98                      \n",
      "\u001b[J12          0.94           0.96                      \n",
      "\u001b[J13          0.97           1                         \n",
      "\u001b[J14          0.95           1                         \n",
      "\u001b[J15          0.96           1                         \n",
      "\u001b[J16          0.97           0.98                      \n",
      "\u001b[J17          0.96           0.96                      \n",
      "\u001b[J18          0.96           0.96                      \n",
      "\u001b[J19          0.95           0.98                      \n",
      "\u001b[J20          0.96           0.96                      \n",
      "\u001b[J     total [##################################################] 100.00%\n",
      "this epoch [..................................................]  0.00%\n",
      "       200 iter, 20 epoch / 20 epochs\n",
      "    83.184 iters/sec. Estimated time to finish: 0:00:00.\n",
      "\u001b[4A\u001b[J"
     ]
    }
   ],
   "source": [
    "# Classifier, Trainer を用いて学習を実行\n",
    "\n",
    "from chainer import iterators, training, datasets\n",
    "from chainer.training import extensions\n",
    "\n",
    "model = L.Classifier(IrisNN()) # 識別関数は デフォルトで softmax cross entropy\n",
    "opt = optimizers.Adam(alpha= 0.001)\n",
    "opt.setup(model)\n",
    "\n",
    "# trainer で用いることが出来るように学習セットを作成 ([特徴量], ラベル)　の tuple にした後に， 学習，テスト用に分ける\n",
    "# 第二引数は，　第一返り値のサイズ（学習セットのサイズ）\n",
    "\n",
    "train, test = datasets.split_dataset_random(datasets.TupleDataset(x,t), 100)\n",
    "\n",
    "# train-llop毎に用いるバッチサイズ，　エポック毎にシャッフルするか指定\n",
    "train_iter = iterators.SerialIterator(train, batch_size=10, shuffle=True)\n",
    "test_iter = iterators.SerialIterator(test, batch_size=1, repeat=False, shuffle=False)\n",
    "\n",
    "# Trainign の際のバッチの与え方，　Optimizer(更新則)を与える\n",
    "updater = training.StandardUpdater(train_iter, opt)\n",
    "\n",
    "# 何エポック学習を行うか指定\n",
    "trainer = training.Trainer(updater, (20, 'epoch'), out='result')\n",
    "\n",
    "\n",
    "# trainer の拡張？を設定\n",
    "\n",
    "trainer.extend(extensions.Evaluator(test_iter, model))\n",
    "trainer.extend(extensions.LogReport())\n",
    "trainer.extend(extensions.PrintReport(['epoch', 'main/accuracy', 'validation/main/accuracy']))\n",
    "trainer.extend(extensions.ProgressBar())\n",
    "\n",
    "trainer.run()"
   ]
  },
  {
   "cell_type": "code",
   "execution_count": null,
   "metadata": {
    "collapsed": false
   },
   "outputs": [],
   "source": []
  },
  {
   "cell_type": "code",
   "execution_count": 16,
   "metadata": {
    "collapsed": false
   },
   "outputs": [
    {
     "name": "stdout",
     "output_type": "stream",
     "text": [
      "epoch       main/accuracy  validation/main/accuracy\n",
      "\u001b[J1           0.69           0.68                      \n",
      "\u001b[J2           0.78           0.78                      \n",
      "\u001b[J3           0.88           0.96                      \n",
      "\u001b[J4           0.97           0.98                      \n",
      "\u001b[J5           0.96           0.98                      \n",
      "\u001b[J6           0.93           0.94                      \n",
      "\u001b[J7           0.87           0.9                       \n",
      "\u001b[J8           0.83           0.88                      \n",
      "\u001b[J9           0.9            0.96                      \n",
      "\u001b[J10          0.96           0.98                      \n",
      "\u001b[J     total [#########################.........................] 50.00%\n",
      "this epoch [..................................................]  0.00%\n",
      "       100 iter, 10 epoch / 20 epochs\n",
      "       inf iters/sec. Estimated time to finish: 0:00:00.\n",
      "\u001b[4A\u001b[J11          0.94           0.98                      \n",
      "\u001b[J12          0.96           0.94                      \n",
      "\u001b[J13          0.91           0.98                      \n",
      "\u001b[J14          0.94           0.98                      \n",
      "\u001b[J15          0.95           0.98                      \n",
      "\u001b[J16          0.98           0.96                      \n",
      "\u001b[J17          0.95           0.98                      \n",
      "\u001b[J18          0.93           0.98                      \n",
      "\u001b[J19          0.96           0.98                      \n",
      "\u001b[J20          0.96           0.98                      \n",
      "\u001b[J     total [##################################################] 100.00%\n",
      "this epoch [..................................................]  0.00%\n",
      "       200 iter, 20 epoch / 20 epochs\n",
      "    78.809 iters/sec. Estimated time to finish: 0:00:00.\n",
      "\u001b[4A\u001b[J"
     ]
    }
   ],
   "source": [
    "from chainer import iterators, training, datasets\n",
    "from chainer.training import extensions\n",
    "\n",
    "\n",
    "train, test = datasets.split_dataset_random(datasets.TupleDataset(x,t), 100)\n",
    "train_iter = iterators.SerialIterator(train, batch_size=10, shuffle=True)\n",
    "test_iter = iterators.SerialIterator(test, batch_size=1, repeat=False, shuffle=False)\n",
    "\n",
    "\n",
    "model = L.Classifier(IrisModel()) # 識別関数は デフォルトで softmax cross entropy\n",
    "opt = optimizers.Adam(alpha= 0.001)\n",
    "opt.setup(model)\n",
    "\n",
    "updater = training.StandardUpdater(train_iter, opt)\n",
    "trainer = training.Trainer(updater, (20, 'epoch'), out='result')\n",
    "trainer.extend(extensions.Evaluator(test_iter, model))\n",
    "trainer.extend(extensions.LogReport())\n",
    "trainer.extend(extensions.PrintReport(['epoch', 'main/accuracy', 'validation/main/accuracy']))\n",
    "trainer.extend(extensions.ProgressBar())\n",
    "\n",
    "trainer.run()"
   ]
  },
  {
   "cell_type": "code",
   "execution_count": 14,
   "metadata": {
    "collapsed": false
   },
   "outputs": [
    {
     "name": "stdout",
     "output_type": "stream",
     "text": [
      "epoch       main/loss   validation/main/loss  main/accuracy  validation/main/accuracy\n",
      "\u001b[J1           0.989558    0.832808              0.61           0.64                      \n",
      "\u001b[J2           0.667633    0.61337               0.75           0.62                      \n",
      "\u001b[J3           0.501489    0.522948              0.84           0.8                       \n",
      "\u001b[J4           0.427098    0.459481              0.88           0.9                       \n",
      "\u001b[J5           0.368822    0.413791              0.94           0.92                      \n",
      "\u001b[J6           0.337897    0.376696              0.95           0.92                      \n",
      "\u001b[J7           0.300505    0.347092              0.97           0.94                      \n",
      "\u001b[J8           0.277971    0.318918              0.97           0.94                      \n",
      "\u001b[J9           0.2526      0.296303              0.96           0.94                      \n",
      "\u001b[J10          0.262205    0.284398              0.92           0.94                      \n",
      "\u001b[J     total [##########........................................] 20.00%\n",
      "this epoch [..................................................]  0.00%\n",
      "       100 iter, 10 epoch / 50 epochs\n",
      "       inf iters/sec. Estimated time to finish: 0:00:00.\n",
      "\u001b[4A\u001b[J11          0.229977    0.254768              0.94           0.94                      \n",
      "\u001b[J12          0.207003    0.242239              0.97           0.96                      \n",
      "\u001b[J13          0.217899    0.231342              0.95           0.94                      \n",
      "\u001b[J14          0.194989    0.231548              0.96           0.94                      \n",
      "\u001b[J15          0.168473    0.200441              0.97           0.94                      \n",
      "\u001b[J16          0.16521     0.194343              0.97           0.96                      \n",
      "\u001b[J17          0.160994    0.183512              0.96           0.94                      \n",
      "\u001b[J18          0.165438    0.17594               0.97           0.96                      \n",
      "\u001b[J19          0.139419    0.161685              0.96           0.94                      \n",
      "\u001b[J20          0.13844     0.15526               0.96           0.96                      \n",
      "\u001b[J     total [####################..............................] 40.00%\n",
      "this epoch [..................................................]  0.00%\n",
      "       200 iter, 20 epoch / 50 epochs\n",
      "    88.095 iters/sec. Estimated time to finish: 0:00:03.405408.\n",
      "\u001b[4A\u001b[J21          0.133338    0.147952              0.97           0.96                      \n",
      "\u001b[J22          0.128232    0.142489              0.97           0.96                      \n",
      "\u001b[J23          0.138516    0.145476              0.95           0.94                      \n",
      "\u001b[J24          0.128567    0.170221              0.97           0.96                      \n",
      "\u001b[J25          0.149193    0.156681              0.93           0.94                      \n",
      "\u001b[J26          0.139801    0.131047              0.95           0.96                      \n",
      "\u001b[J27          0.148611    0.122714              0.94           0.94                      \n",
      "\u001b[J28          0.132385    0.124205              0.96           0.96                      \n",
      "\u001b[J29          0.116015    0.116118              0.96           0.94                      \n",
      "\u001b[J30          0.10928     0.114165              0.96           0.96                      \n",
      "\u001b[J     total [##############################....................] 60.00%\n",
      "this epoch [..................................................]  0.00%\n",
      "       300 iter, 30 epoch / 50 epochs\n",
      "    99.366 iters/sec. Estimated time to finish: 0:00:02.012758.\n",
      "\u001b[4A\u001b[J31          0.104525    0.110961              0.97           0.96                      \n",
      "\u001b[J32          0.10264     0.107876              0.96           0.96                      \n",
      "\u001b[J33          0.102055    0.106357              0.96           0.96                      \n",
      "\u001b[J34          0.0998761   0.104037              0.97           0.94                      \n",
      "\u001b[J35          0.103978    0.104813              0.98           0.98                      \n",
      "\u001b[J36          0.0982385   0.0976422             0.96           0.96                      \n",
      "\u001b[J37          0.0956087   0.0967503             0.96           0.96                      \n",
      "\u001b[J38          0.0994504   0.0980952             0.97           0.96                      \n",
      "\u001b[J39          0.094782    0.0928556             0.96           0.96                      \n",
      "\u001b[J40          0.116325    0.0943118             0.96           0.96                      \n",
      "\u001b[J     total [########################################..........] 80.00%\n",
      "this epoch [..................................................]  0.00%\n",
      "       400 iter, 40 epoch / 50 epochs\n",
      "    102.02 iters/sec. Estimated time to finish: 0:00:00.980246.\n",
      "\u001b[4A\u001b[J41          0.119924    0.0987434             0.95           0.94                      \n",
      "\u001b[J42          0.104957    0.0886645             0.97           0.96                      \n",
      "\u001b[J43          0.116963    0.0875212             0.93           0.96                      \n",
      "\u001b[J44          0.0936803   0.0880752             0.97           0.96                      \n",
      "\u001b[J45          0.0910974   0.0934279             0.98           0.98                      \n",
      "\u001b[J46          0.0975565   0.0862144             0.97           0.96                      \n",
      "\u001b[J47          0.0984293   0.0847711             0.97           0.96                      \n",
      "\u001b[J48          0.0979443   0.0865044             0.96           0.96                      \n",
      "\u001b[J49          0.103359    0.118256              0.96           0.98                      \n",
      "\u001b[J50          0.0909983   0.0852167             0.96           0.96                      \n",
      "\u001b[J     total [##################################################] 100.00%\n",
      "this epoch [..................................................]  0.00%\n",
      "       500 iter, 50 epoch / 50 epochs\n",
      "    99.737 iters/sec. Estimated time to finish: 0:00:00.\n",
      "\u001b[4A\u001b[J"
     ]
    }
   ],
   "source": [
    "import chainer\n",
    "import chainer.functions as F\n",
    "import chainer.links as L\n",
    "from chainer import training, datasets\n",
    "from chainer.training import extensions\n",
    "import numpy as np\n",
    "from sklearn.datasets import load_iris\n",
    "\n",
    "iris = load_iris()\n",
    "X = iris.data\n",
    "X = X.astype(np.float32)\n",
    "Y = iris.target\n",
    "Y = Y.flatten().astype(np.int32)\n",
    "\n",
    "train ,test= datasets.split_dataset_random(chainer.datasets.TupleDataset(x,t),100)\n",
    "train_iter = chainer.iterators.SerialIterator(train, 10)\n",
    "test_iter = chainer.iterators.SerialIterator(test, 1,repeat=False, shuffle=False)\n",
    "\n",
    "'''\n",
    "class IrisModel(chainer.Chain):\n",
    "    def __init__(self):\n",
    "        super(IrisModel,self).__init__(\n",
    "                l1 = L.Linear(4,100),\n",
    "                l2 = L.Linear(100,100),\n",
    "                l3 = L.Linear(100,3))\n",
    "\n",
    "    def __call__(self,x):    \n",
    "         h = F.relu(self.l1(x))\n",
    "         h = F.relu(self.l2(h))\n",
    "         return self.l3(h)\n",
    "'''\n",
    "\n",
    "model = L.Classifier(IrisModel())\n",
    "optimizer = chainer.optimizers.Adam()\n",
    "optimizer.setup(model)\n",
    "\n",
    "updater = training.StandardUpdater(train_iter, optimizer, device=-1)\n",
    "trainer = training.Trainer(updater, (50, 'epoch'), out=\"result\")\n",
    "trainer.extend(extensions.Evaluator(test_iter, model, device=-1))\n",
    "trainer.extend(extensions.LogReport())\n",
    "trainer.extend(extensions.PrintReport( ['epoch', 'main/loss', 'validation/main/loss', 'main/accuracy', 'validation/main/accuracy']))\n",
    "trainer.extend(extensions.ProgressBar())\n",
    "\n",
    "trainer.run()"
   ]
  },
  {
   "cell_type": "code",
   "execution_count": 10,
   "metadata": {
    "collapsed": false
   },
   "outputs": [
    {
     "data": {
      "text/plain": [
       "100"
      ]
     },
     "execution_count": 10,
     "metadata": {},
     "output_type": "execute_result"
    }
   ],
   "source": [
    "len(train)"
   ]
  },
  {
   "cell_type": "code",
   "execution_count": null,
   "metadata": {
    "collapsed": true
   },
   "outputs": [],
   "source": []
  },
  {
   "cell_type": "code",
   "execution_count": null,
   "metadata": {
    "collapsed": true
   },
   "outputs": [],
   "source": []
  },
  {
   "cell_type": "code",
   "execution_count": null,
   "metadata": {
    "collapsed": true
   },
   "outputs": [],
   "source": []
  },
  {
   "cell_type": "code",
   "execution_count": null,
   "metadata": {
    "collapsed": true
   },
   "outputs": [],
   "source": []
  },
  {
   "cell_type": "code",
   "execution_count": null,
   "metadata": {
    "collapsed": true
   },
   "outputs": [],
   "source": []
  },
  {
   "cell_type": "code",
   "execution_count": null,
   "metadata": {
    "collapsed": true
   },
   "outputs": [],
   "source": []
  },
  {
   "cell_type": "code",
   "execution_count": null,
   "metadata": {
    "collapsed": true
   },
   "outputs": [],
   "source": []
  },
  {
   "cell_type": "code",
   "execution_count": null,
   "metadata": {
    "collapsed": true
   },
   "outputs": [],
   "source": []
  },
  {
   "cell_type": "code",
   "execution_count": null,
   "metadata": {
    "collapsed": true
   },
   "outputs": [],
   "source": []
  },
  {
   "cell_type": "code",
   "execution_count": null,
   "metadata": {
    "collapsed": true
   },
   "outputs": [],
   "source": []
  },
  {
   "cell_type": "code",
   "execution_count": 6,
   "metadata": {
    "collapsed": false
   },
   "outputs": [
    {
     "ename": "AttributeError",
     "evalue": "'dict' object has no attribute 'a'",
     "output_type": "error",
     "traceback": [
      "\u001b[0;31m---------------------------------------------------------------------------\u001b[0m",
      "\u001b[0;31mAttributeError\u001b[0m                            Traceback (most recent call last)",
      "\u001b[0;32m<ipython-input-6-1b10c536f255>\u001b[0m in \u001b[0;36m<module>\u001b[0;34m()\u001b[0m\n\u001b[0;32m----> 1\u001b[0;31m \u001b[0mx\u001b[0m\u001b[0;34m.\u001b[0m\u001b[0ma\u001b[0m\u001b[0;34m\u001b[0m\u001b[0m\n\u001b[0m",
      "\u001b[0;31mAttributeError\u001b[0m: 'dict' object has no attribute 'a'"
     ]
    }
   ],
   "source": []
  },
  {
   "cell_type": "code",
   "execution_count": null,
   "metadata": {
    "collapsed": true
   },
   "outputs": [],
   "source": []
  }
 ],
 "metadata": {
  "kernelspec": {
   "display_name": "Python 2",
   "language": "python",
   "name": "python2"
  },
  "language_info": {
   "codemirror_mode": {
    "name": "ipython",
    "version": 2
   },
   "file_extension": ".py",
   "mimetype": "text/x-python",
   "name": "python",
   "nbconvert_exporter": "python",
   "pygments_lexer": "ipython2",
   "version": "2.7.13"
  }
 },
 "nbformat": 4,
 "nbformat_minor": 0
}
